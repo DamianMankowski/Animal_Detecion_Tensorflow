{
 "cells": [
  {
   "cell_type": "code",
   "execution_count": 27,
   "id": "5decbdb9",
   "metadata": {},
   "outputs": [],
   "source": [
    "import math\n",
    "def sieve(x):\n",
    "  s = set(range(2, x))\n",
    "  counter = 0\n",
    "\n",
    "  for i in range(2, math.floor(math.sqrt(x))):\n",
    "    for j in range(i, x + 1):\n",
    "      s.discard(i * j)\n",
    "  for i in s:\n",
    "    counter+=1\n",
    "  return sorted(list(s)), counter"
   ]
  },
  {
   "cell_type": "code",
   "execution_count": 29,
   "id": "77eef2da",
   "metadata": {},
   "outputs": [
    {
     "data": {
      "text/plain": [
       "([2, 3, 5, 7, 9], 5)"
      ]
     },
     "execution_count": 29,
     "metadata": {},
     "output_type": "execute_result"
    }
   ],
   "source": [
    "sieve(10)\n"
   ]
  },
  {
   "cell_type": "code",
   "execution_count": 30,
   "id": "649252f0",
   "metadata": {},
   "outputs": [],
   "source": [
    "def sort(lst):\n",
    "  for i in range(len(lst)-1):\n",
    "    for j in range(len(lst)-i-1):\n",
    "      if lst[j] > lst[j+1]:\n",
    "        lst[j], lst[j+1] = lst[j+1], lst[j]\n",
    "  return lst\n"
   ]
  },
  {
   "cell_type": "code",
   "execution_count": 39,
   "id": "9f571a8a",
   "metadata": {},
   "outputs": [
    {
     "data": {
      "text/plain": [
       "[10, 30, 31, 32, 40, 54, 57, 58, 60, 63, 80, 82, 85, 93, 97]"
      ]
     },
     "execution_count": 39,
     "metadata": {},
     "output_type": "execute_result"
    }
   ],
   "source": [
    "lst=[]\n",
    "import random\n",
    "for i in range(15):\n",
    "    lst.append(random.randrange(100))\n",
    "sort(lst)"
   ]
  },
  {
   "cell_type": "code",
   "execution_count": 38,
   "id": "55d62628",
   "metadata": {},
   "outputs": [],
   "source": [
    "def fibsum(x):\n",
    "  a = 0\n",
    "  b = 1\n",
    "  if x < 2:\n",
    "    return a\n",
    "  s = a + b\n",
    "  while x > 2:\n",
    "    c = a + b\n",
    "    s += c\n",
    "    a = b\n",
    "    b = c\n",
    "    x -= 1\n",
    "  return s"
   ]
  },
  {
   "cell_type": "code",
   "execution_count": 1,
   "id": "1c5e976e",
   "metadata": {},
   "outputs": [],
   "source": [
    "def fibsum(x):\n",
    "    fib0, fib1 = 0, 1\n",
    "    sum = 0 \n",
    "    for i in range (1,x):\n",
    "        sum += fib1\n",
    "        fib0, fib1 = fib1, fib0+fib1\n",
    "    return sum"
   ]
  },
  {
   "cell_type": "code",
   "execution_count": 3,
   "id": "8a15ba75",
   "metadata": {},
   "outputs": [
    {
     "data": {
      "text/plain": [
       "986"
      ]
     },
     "execution_count": 3,
     "metadata": {},
     "output_type": "execute_result"
    }
   ],
   "source": [
    "fibsum(15)"
   ]
  },
  {
   "cell_type": "code",
   "execution_count": 21,
   "id": "f40f0483",
   "metadata": {},
   "outputs": [],
   "source": [
    "import math\n",
    "def sieve(x):\n",
    "    s = set(range(2,x))\n",
    "    counter = 0\n",
    "    for i in range(2,math.floor(math.sqrt(x))):\n",
    "        for j in range(1,x+1):\n",
    "            s.discard(i*j)\n",
    "    for i in s:\n",
    "        counter +=1\n",
    "    return sorted(list(s)), counter"
   ]
  },
  {
   "cell_type": "code",
   "execution_count": 22,
   "id": "ce764d62",
   "metadata": {},
   "outputs": [
    {
     "data": {
      "text/plain": [
       "([13,\n",
       "  17,\n",
       "  19,\n",
       "  23,\n",
       "  29,\n",
       "  31,\n",
       "  37,\n",
       "  41,\n",
       "  43,\n",
       "  47,\n",
       "  53,\n",
       "  59,\n",
       "  61,\n",
       "  67,\n",
       "  71,\n",
       "  73,\n",
       "  79,\n",
       "  83,\n",
       "  89,\n",
       "  97,\n",
       "  101,\n",
       "  103,\n",
       "  107,\n",
       "  109,\n",
       "  113,\n",
       "  127,\n",
       "  131,\n",
       "  137,\n",
       "  139,\n",
       "  149],\n",
       " 30)"
      ]
     },
     "execution_count": 22,
     "metadata": {},
     "output_type": "execute_result"
    }
   ],
   "source": [
    "sieve(150)"
   ]
  },
  {
   "cell_type": "code",
   "execution_count": 34,
   "id": "30077d9a",
   "metadata": {},
   "outputs": [
    {
     "name": "stdout",
     "output_type": "stream",
     "text": [
      "[12, 3, 123, 3, 245, 6, 7, 7, 86, 54, 63, 45, 24, 3, 5, 235, 2325, 235556, 45745, 7, 99]\n",
      "[3, 3, 3, 5, 6, 7, 7, 7, 12, 24, 45, 54, 63, 86, 99, 123, 235, 245, 2325, 45745, 235556]\n",
      "[3, 3, 3, 5, 6, 7, 7, 7, 12, 24, 45, 54, 63, 86, 99, 123, 235, 245, 2325, 45745, 235556]\n",
      "<class 'list'>\n"
     ]
    }
   ],
   "source": [
    "def sort(lst):\n",
    "    for i in range(len(lst)-1):\n",
    "        for j in range(len(lst)-i-1):\n",
    "            if lst[j]>lst[j+1]:\n",
    "                lst[j], lst[j+1] = lst[j+1], lst[j]\n",
    "    return lst\n",
    "\n",
    "x =[12,3,123,3,245,6,7,7,86,54,63,45,24,3,5,235,2325,235556,45745,7]\n",
    "x.append(99)\n",
    "print(x)\n",
    "print(sorted(x))\n",
    "print(sort(x))\n",
    "print(type(x))"
   ]
  },
  {
   "cell_type": "code",
   "execution_count": 47,
   "id": "e239a17e",
   "metadata": {},
   "outputs": [
    {
     "name": "stdout",
     "output_type": "stream",
     "text": [
      "[1, 4, 9, 16, 25, 36, 49, 64, 81, 100, 121]\n",
      "[1, 4, 9, 16, 25, 36, 49, 64, 81, 100, 121, 12]\n",
      "[1, 4, 9, 12, 16, 25, 36, 49, 64, 81, 100, 121]\n",
      "22 2\n",
      "23 2\n"
     ]
    }
   ],
   "source": [
    "x = [i*i for i in range(1,12)]\n",
    "print(x)\n",
    "x.append(12)\n",
    "print(x)\n",
    "x.sort()\n",
    "print(x)\n",
    "a=2 \n",
    "b=22\n",
    "a,b = b,a\n",
    "print(a,b)\n",
    "a+=1\n",
    "print(a,b)"
   ]
  },
  {
   "cell_type": "code",
   "execution_count": 56,
   "id": "57339713",
   "metadata": {},
   "outputs": [],
   "source": []
  },
  {
   "cell_type": "code",
   "execution_count": 64,
   "id": "893e926e",
   "metadata": {},
   "outputs": [
    {
     "name": "stdout",
     "output_type": "stream",
     "text": [
      "[12, 3, 123, 3, 245, 6, 7, 7, 86, 54, 63, 45, 24, 3, 5, 235, 2325, 235556, 45745, 7]\n",
      "[3, 3, 3, 5, 6, 7, 7, 7, 12, 24, 45, 54, 63, 86, 123, 235, 245, 2325, 45745, 235556]\n"
     ]
    }
   ],
   "source": [
    "def partition(lst, low, high):\n",
    "    i=(low-1)\n",
    "    pivot=lst[high]\n",
    "    for j in range(low, high):\n",
    "        if lst[j] <= pivot:\n",
    "            i+=1\n",
    "            lst[i],lst[j] = lst[j],lst[i]\n",
    "    lst[i+1],lst[high] = lst[high],lst[i+1]\n",
    "    return(i+1)\n",
    "    \n",
    "def quicksort(lst, low, high):\n",
    "    if low<high:\n",
    "        \n",
    "        pi = partition(lst, low, high)\n",
    "        quicksort(lst,low,pi-1)\n",
    "        quicksort(lst,pi+1,high)\n",
    "        \n",
    "        \n",
    "x =[12,3,123,3,245,6,7,7,86,54,63,45,24,3,5,235,2325,235556,45745,7]\n",
    "print(x)\n",
    "n = len(x)\n",
    "quicksort(x,0,n-1)\n",
    "print(x)\n",
    "        "
   ]
  },
  {
   "cell_type": "code",
   "execution_count": 62,
   "id": "74cda324",
   "metadata": {},
   "outputs": [
    {
     "name": "stdout",
     "output_type": "stream",
     "text": [
      "[12, 3, 123, 3, 245, 6, 7, 7, 86, 54, 63, 45, 24, 3, 5, 235, 2325, 235556, 45745, 7]\n",
      "[7, 7, 7, 7, 7, 7, 7, 245, 245, 245, 245, 245, 245, 245, 245, 245, 2325, 235556, 235556, 235556]\n"
     ]
    }
   ],
   "source": [
    "x =[12,3,123,3,245,6,7,7,86,54,63,45,24,3,5,235,2325,235556,45745,7]\n",
    "print(x)\n",
    "n = len(x)\n",
    "quicksort(x,0,n-1)\n",
    "print(x)"
   ]
  },
  {
   "cell_type": "code",
   "execution_count": 86,
   "id": "4a729e72",
   "metadata": {},
   "outputs": [
    {
     "name": "stdout",
     "output_type": "stream",
     "text": [
      "<class 'set'>\n"
     ]
    }
   ],
   "source": [
    "x = {i*i for i in range(10)}\n",
    "print(type (x))"
   ]
  },
  {
   "cell_type": "code",
   "execution_count": 73,
   "id": "40d39575",
   "metadata": {},
   "outputs": [],
   "source": [
    "generator = (i*i for i in range(10))\n"
   ]
  },
  {
   "cell_type": "code",
   "execution_count": 77,
   "id": "f67907da",
   "metadata": {},
   "outputs": [
    {
     "data": {
      "text/plain": [
       "9"
      ]
     },
     "execution_count": 77,
     "metadata": {},
     "output_type": "execute_result"
    }
   ],
   "source": [
    "next(generator)"
   ]
  },
  {
   "cell_type": "code",
   "execution_count": 78,
   "id": "94df503e",
   "metadata": {},
   "outputs": [
    {
     "data": {
      "text/plain": [
       "16"
      ]
     },
     "execution_count": 78,
     "metadata": {},
     "output_type": "execute_result"
    }
   ],
   "source": [
    "next(generator)"
   ]
  },
  {
   "cell_type": "code",
   "execution_count": 79,
   "id": "a94e66e4",
   "metadata": {},
   "outputs": [
    {
     "data": {
      "text/plain": [
       "25"
      ]
     },
     "execution_count": 79,
     "metadata": {},
     "output_type": "execute_result"
    }
   ],
   "source": [
    "next(generator)"
   ]
  },
  {
   "cell_type": "code",
   "execution_count": 80,
   "id": "490283b7",
   "metadata": {},
   "outputs": [
    {
     "data": {
      "text/plain": [
       "36"
      ]
     },
     "execution_count": 80,
     "metadata": {},
     "output_type": "execute_result"
    }
   ],
   "source": [
    "next(generator)"
   ]
  },
  {
   "cell_type": "code",
   "execution_count": 81,
   "id": "262effe8",
   "metadata": {},
   "outputs": [
    {
     "data": {
      "text/plain": [
       "49"
      ]
     },
     "execution_count": 81,
     "metadata": {},
     "output_type": "execute_result"
    }
   ],
   "source": [
    "next(generator)"
   ]
  },
  {
   "cell_type": "code",
   "execution_count": 82,
   "id": "e2437a91",
   "metadata": {},
   "outputs": [
    {
     "data": {
      "text/plain": [
       "64"
      ]
     },
     "execution_count": 82,
     "metadata": {},
     "output_type": "execute_result"
    }
   ],
   "source": [
    "next(generator)"
   ]
  },
  {
   "cell_type": "code",
   "execution_count": 83,
   "id": "e9fa78de",
   "metadata": {},
   "outputs": [
    {
     "data": {
      "text/plain": [
       "81"
      ]
     },
     "execution_count": 83,
     "metadata": {},
     "output_type": "execute_result"
    }
   ],
   "source": [
    "generator.__next__()"
   ]
  },
  {
   "cell_type": "code",
   "execution_count": 1,
   "id": "5e771e1c",
   "metadata": {},
   "outputs": [],
   "source": [
    "def fibsum(x):\n",
    "    sum = 0\n",
    "    fib1, fib2 = 0,1\n",
    "    for i in range(x):\n",
    "        sum+=fib1\n",
    "        fib1, fib2 = fib2, fib1+fib2\n",
    "    return sum"
   ]
  },
  {
   "cell_type": "code",
   "execution_count": 2,
   "id": "8249d5e1",
   "metadata": {},
   "outputs": [
    {
     "data": {
      "text/plain": [
       "232"
      ]
     },
     "execution_count": 2,
     "metadata": {},
     "output_type": "execute_result"
    }
   ],
   "source": [
    "fibsum(12)"
   ]
  },
  {
   "cell_type": "code",
   "execution_count": 7,
   "id": "836189b5",
   "metadata": {},
   "outputs": [],
   "source": [
    "import math\n",
    "def sieve(x):\n",
    "    s = set(range(2,x))\n",
    "    for i in range(2, math.floor(math.sqrt(x))):\n",
    "        for j in range(i,x+1):\n",
    "            s.discard(i*j)\n",
    "    return sorted(list(s))\n",
    "    "
   ]
  },
  {
   "cell_type": "code",
   "execution_count": 8,
   "id": "9d984f49",
   "metadata": {},
   "outputs": [
    {
     "data": {
      "text/plain": [
       "[2, 3, 5, 7, 11, 13, 17, 19, 23]"
      ]
     },
     "execution_count": 8,
     "metadata": {},
     "output_type": "execute_result"
    }
   ],
   "source": [
    "sieve(25)"
   ]
  },
  {
   "cell_type": "code",
   "execution_count": 9,
   "id": "e9f8dabe",
   "metadata": {},
   "outputs": [],
   "source": [
    "def bubble_sort(lst):\n",
    "    for i in range(len(lst)-1):\n",
    "        for j in range(len(lst)-i-1):\n",
    "            if lst[j]>lst[j+1]:\n",
    "                lst[j],lst[j+1] = lst[j+1],lst[j]\n",
    "    return lst"
   ]
  },
  {
   "cell_type": "code",
   "execution_count": 10,
   "id": "b3dbb982",
   "metadata": {},
   "outputs": [
    {
     "data": {
      "text/plain": [
       "[1, 1, 2, 5, 5, 7, 11, 12, 31, 31, 54, 84, 351, 548]"
      ]
     },
     "execution_count": 10,
     "metadata": {},
     "output_type": "execute_result"
    }
   ],
   "source": [
    "x=[1,5,12,1,2,31,54,11,548,31,5,84,351,7]\n",
    "bubble_sort(x)"
   ]
  },
  {
   "cell_type": "code",
   "execution_count": 13,
   "id": "e1d1bf74",
   "metadata": {},
   "outputs": [
    {
     "data": {
      "text/plain": [
       "{1: 1, 2: 4, 3: 9, 4: 16, 5: 25, 6: 36, 7: 49, 8: 64, 9: 81, 10: 100}"
      ]
     },
     "execution_count": 13,
     "metadata": {},
     "output_type": "execute_result"
    }
   ],
   "source": [
    "{i: i**2 for i in range(1,11)}\n"
   ]
  },
  {
   "cell_type": "code",
   "execution_count": 14,
   "id": "76c4a7d3",
   "metadata": {},
   "outputs": [],
   "source": [
    "generator = (i*i for i in range(1,13))"
   ]
  },
  {
   "cell_type": "code",
   "execution_count": 15,
   "id": "238eefe5",
   "metadata": {},
   "outputs": [
    {
     "data": {
      "text/plain": [
       "1"
      ]
     },
     "execution_count": 15,
     "metadata": {},
     "output_type": "execute_result"
    }
   ],
   "source": [
    "next(generator)"
   ]
  },
  {
   "cell_type": "code",
   "execution_count": 16,
   "id": "421e63cb",
   "metadata": {},
   "outputs": [
    {
     "data": {
      "text/plain": [
       "4"
      ]
     },
     "execution_count": 16,
     "metadata": {},
     "output_type": "execute_result"
    }
   ],
   "source": [
    "next(generator)"
   ]
  },
  {
   "cell_type": "code",
   "execution_count": 17,
   "id": "1d2de5b2",
   "metadata": {},
   "outputs": [
    {
     "data": {
      "text/plain": [
       "9"
      ]
     },
     "execution_count": 17,
     "metadata": {},
     "output_type": "execute_result"
    }
   ],
   "source": [
    "next(generator)"
   ]
  },
  {
   "cell_type": "code",
   "execution_count": 18,
   "id": "4b752a12",
   "metadata": {},
   "outputs": [
    {
     "data": {
      "text/plain": [
       "16"
      ]
     },
     "execution_count": 18,
     "metadata": {},
     "output_type": "execute_result"
    }
   ],
   "source": [
    "next(generator)"
   ]
  },
  {
   "cell_type": "code",
   "execution_count": 19,
   "id": "3ee8ce3f",
   "metadata": {},
   "outputs": [
    {
     "data": {
      "text/plain": [
       "25"
      ]
     },
     "execution_count": 19,
     "metadata": {},
     "output_type": "execute_result"
    }
   ],
   "source": [
    "next(generator)"
   ]
  },
  {
   "cell_type": "code",
   "execution_count": 20,
   "id": "92a7527f",
   "metadata": {},
   "outputs": [
    {
     "data": {
      "text/plain": [
       "<generator object <genexpr> at 0x000001F9FF47D190>"
      ]
     },
     "execution_count": 20,
     "metadata": {},
     "output_type": "execute_result"
    }
   ],
   "source": [
    "generator"
   ]
  },
  {
   "cell_type": "code",
   "execution_count": 23,
   "id": "068bbc6d",
   "metadata": {},
   "outputs": [],
   "source": [
    "generator = (i*i for i in range(1,13))"
   ]
  },
  {
   "cell_type": "code",
   "execution_count": 24,
   "id": "4890c5d1",
   "metadata": {},
   "outputs": [
    {
     "data": {
      "text/plain": [
       "<generator object <genexpr> at 0x000001F9FF47D430>"
      ]
     },
     "execution_count": 24,
     "metadata": {},
     "output_type": "execute_result"
    }
   ],
   "source": [
    "generator"
   ]
  },
  {
   "cell_type": "code",
   "execution_count": null,
   "id": "8a66aab7",
   "metadata": {},
   "outputs": [],
   "source": []
  }
 ],
 "metadata": {
  "kernelspec": {
   "display_name": "Python 3",
   "language": "python",
   "name": "python3"
  },
  "language_info": {
   "codemirror_mode": {
    "name": "ipython",
    "version": 3
   },
   "file_extension": ".py",
   "mimetype": "text/x-python",
   "name": "python",
   "nbconvert_exporter": "python",
   "pygments_lexer": "ipython3",
   "version": "3.8.8"
  }
 },
 "nbformat": 4,
 "nbformat_minor": 5
}
